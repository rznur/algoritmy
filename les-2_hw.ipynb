{
 "cells": [
  {
   "cell_type": "code",
   "execution_count": 4,
   "metadata": {},
   "outputs": [
    {
     "name": "stdout",
     "output_type": "stream",
     "text": [
      "\t\t\t\t\t Базовые математические операции с двумя числами\n",
      "для завершения программы введите 0 в качестве знака\n",
      "Пожалуйста, введите первое число  :\n",
      "20\n",
      "Пожалуйста, введите второе число :\n",
      "5\n",
      "Пожалуйста, введите знак :\n",
      "+\n",
      "Результат сложения равен  25\n",
      "для завершения программы введите 0 в качестве знака\n",
      "Пожалуйста, введите первое число  :\n",
      "20\n",
      "Пожалуйста, введите второе число :\n",
      "5\n",
      "Пожалуйста, введите знак :\n",
      "-\n",
      "Результат вычитания равен  15\n",
      "для завершения программы введите 0 в качестве знака\n",
      "Пожалуйста, введите первое число  :\n",
      "20\n",
      "Пожалуйста, введите второе число :\n",
      "5\n",
      "Пожалуйста, введите знак :\n",
      "*\n",
      "Результат умножения равен  100\n",
      "для завершения программы введите 0 в качестве знака\n",
      "Пожалуйста, введите первое число  :\n",
      "20\n",
      "Пожалуйста, введите второе число :\n",
      "5\n",
      "Пожалуйста, введите знак :\n",
      "/\n",
      "Результат деления равен  4.0\n",
      "для завершения программы введите 0 в качестве знака\n",
      "Пожалуйста, введите первое число  :\n",
      "20\n",
      "Пожалуйста, введите второе число :\n",
      "0\n",
      "Пожалуйста, введите знак :\n",
      "/\n",
      "невозможно произвести деление на 0\n",
      "для завершения программы введите 0 в качестве знака\n",
      "Пожалуйста, введите первое число  :\n",
      "20\n",
      "Пожалуйста, введите второе число :\n",
      "t\n",
      "Неправильно введенные данные. Повторите ввод чисел и знаков\n",
      "для завершения программы введите 0 в качестве знака\n",
      "Пожалуйста, введите первое число  :\n",
      "20\n",
      "Пожалуйста, введите второе число :\n",
      "5\n",
      "Пожалуйста, введите знак :\n",
      "0\n",
      "завершение программы\n"
     ]
    }
   ],
   "source": [
    "#1. Написать программу, которая будет складывать, вычитать, умножать или делить два числа. \n",
    "#Числа и знак операции вводятся пользователем. После выполнения вычисления программа не должна завершаться, \n",
    "#а должна запрашивать новые данные для вычислений. \n",
    "#Завершение программы должно выполняться при вводе символа '0' в качестве знака операции.\n",
    "##Если пользователь вводит неверный знак (не '0', '+', '-', '*', '/'), то программа должна сообщать ему об ошибке и снова запрашивать знак операции. \n",
    "#Также сообщать пользователю о невозможности деления на ноль, если он ввел 0 в качестве делителя.\n",
    "\n",
    "#set cycle \n",
    "#input\n",
    "#perform task\n",
    "#print res\n",
    "#end cycle\n",
    "\n",
    "print(\"\\t\\t\\t\\t\\t Базовые математические операции с двумя числами\") \n",
    "\n",
    "while True:\n",
    "\n",
    "    try:\n",
    "        print('для завершения программы введите 0 в качестве знака')\n",
    "\n",
    "        val1 = int(input('Пожалуйста, введите первое число  :\\n'))\n",
    "        val2 = int(input('Пожалуйста, введите второе число :\\n'))\n",
    "        sign = input('Пожалуйста, введите знак :\\n')\n",
    "        signs = '+', '-', '*', '/', '0'\n",
    "\n",
    "        if sign not in signs:\n",
    "            print('Неверный знак. Повторите ввод одного из знаков: 0, +, -, *, / ' )\n",
    "\n",
    "        if sign == '+':\n",
    "            print(\"Результат сложения равен \", val1+val2)\n",
    "\n",
    "        if sign == '-':\n",
    "            print(\"Результат вычитания равен \", val1-val2)\n",
    "\n",
    "        if sign == '*':\n",
    "            print(\"Результат умножения равен \", val1*val2)\n",
    "\n",
    "        if sign == '/':\n",
    "            if val2 != 0:\n",
    "                print(\"Результат деления равен \", val1/val2)\n",
    "            else:\n",
    "                print('невозможно произвести деление на 0')\n",
    "\n",
    "        if sign == '0':\n",
    "            print('завершение программы')\n",
    "            break\n",
    "            \n",
    "    except ValueError:\n",
    "        print('Неправильно введенные данные. Повторите ввод чисел и знаков')"
   ]
  },
  {
   "cell_type": "code",
   "execution_count": 5,
   "metadata": {},
   "outputs": [
    {
     "name": "stdout",
     "output_type": "stream",
     "text": [
      "input number: 567\n",
      "\n",
      " 1 even digids and 2 odd digits\n"
     ]
    }
   ],
   "source": [
    "#DONE\n",
    "#2. Посчитать четные и нечетные цифры введенного натурального числа. \n",
    "#Например, если введено число 34560, то у него 3 четные цифры (4, 6 и 0) и 2 нечетные (3 и 5).\n",
    "\n",
    "num = input('input number: ')\n",
    "\n",
    "odds = 0\n",
    "even = 0\n",
    "\n",
    "try:\n",
    "    for n in num:\n",
    "        if int(n) % 2 == 0:\n",
    "            even = even + 1\n",
    "        else:\n",
    "            odds = odds + 1\n",
    "    print(f'\\n {even} even digids and {odds} odd digits')\n",
    "\n",
    "except ValueError:\n",
    "    print('need to input digids only')"
   ]
  },
  {
   "cell_type": "code",
   "execution_count": 6,
   "metadata": {},
   "outputs": [
    {
     "name": "stdout",
     "output_type": "stream",
     "text": [
      "input number: 567\n",
      "765\n"
     ]
    }
   ],
   "source": [
    "#DONE\n",
    "#3. Сформировать из введенного числа обратное по порядку входящих в него цифр и вывести на экран. \n",
    "# Например, если введено число 3486, то надо вывести число 6843.\n",
    "\n",
    "user_num = input('input number: ')\n",
    "print(user_num[::-1])"
   ]
  },
  {
   "cell_type": "code",
   "execution_count": 7,
   "metadata": {},
   "outputs": [
    {
     "name": "stdout",
     "output_type": "stream",
     "text": [
      "input n: 5\n",
      "[1, -0.5, 0.25, -0.125, 0.0625]\n"
     ]
    },
    {
     "data": {
      "text/plain": [
       "0.6875"
      ]
     },
     "execution_count": 7,
     "metadata": {},
     "output_type": "execute_result"
    }
   ],
   "source": [
    "# DONE\n",
    "#4. Найти сумму n элементов следующего ряда чисел: 1 -0.5 0.25 -0.125 ...\n",
    "#Количество элементов (n) вводится с клавиатуры.\n",
    "\n",
    "f = 1\n",
    "n = int(input('input n: '))\n",
    "ryad = [1,]\n",
    "\n",
    "for i in range(1, n):\n",
    "    elem = f / (-2)\n",
    "    ryad.append(elem)\n",
    "    f = elem\n",
    "print(ryad)\n",
    "print('sum of elements - ', sum(ryad))\n"
   ]
  },
  {
   "cell_type": "code",
   "execution_count": 7,
   "metadata": {},
   "outputs": [
    {
     "name": "stdout",
     "output_type": "stream",
     "text": [
      "    32 -      33 - !    34 - \"    35 - #    36 - $    37 - %    38 - &    39 - '    40 - (\n",
      "    41 - )    42 - *    43 - +    44 - ,    45 - -    46 - .    47 - /    48 - 0    49 - 1    50 - 2\n",
      "    51 - 3    52 - 4    53 - 5    54 - 6    55 - 7    56 - 8    57 - 9    58 - :    59 - ;    60 - <\n",
      "    61 - =    62 - >    63 - ?    64 - @    65 - A    66 - B    67 - C    68 - D    69 - E    70 - F\n",
      "    71 - G    72 - H    73 - I    74 - J    75 - K    76 - L    77 - M    78 - N    79 - O    80 - P\n",
      "    81 - Q    82 - R    83 - S    84 - T    85 - U    86 - V    87 - W    88 - X    89 - Y    90 - Z\n",
      "    91 - [    92 - \\    93 - ]    94 - ^    95 - _    96 - `    97 - a    98 - b    99 - c   100 - d\n",
      "   101 - e   102 - f   103 - g   104 - h   105 - i   106 - j   107 - k   108 - l   109 - m   110 - n\n",
      "   111 - o   112 - p   113 - q   114 - r   115 - s   116 - t   117 - u   118 - v   119 - w   120 - x\n",
      "   121 - y   122 - z   123 - {   124 - |   125 - }   126 - ~   127 - \n"
     ]
    }
   ],
   "source": [
    "#DONE\n",
    "#5. Вывести на экран коды и символы таблицы ASCII, начиная с символа под номером 32 и заканчивая 127-м включительно. \n",
    "#Вывод выполнить в табличной форме: по десять пар \"код-символ\" в каждой строке.\n",
    "\n",
    "for i in range(32,128):\n",
    "    print(' {:5} - {}'.format(i,chr(i)), end='')\n",
    "    if i%10 == 0:\n",
    "        print()\n",
    " \n",
    "print()"
   ]
  },
  {
   "cell_type": "code",
   "execution_count": 1,
   "metadata": {},
   "outputs": [
    {
     "name": "stdout",
     "output_type": "stream",
     "text": [
      "your guess = 5\n",
      "this is wrong, sorry :) \n",
      "your guess number is under\n",
      "your guess = 78\n",
      "this is wrong, sorry :) \n",
      "your guess number is over\n",
      "your guess = 54\n",
      "this is wrong, sorry :) \n",
      "your guess number is under\n",
      "your guess = 67\n",
      "this is wrong, sorry :) \n",
      "your guess number is over\n",
      "your guess = 60\n",
      "this is wrong, sorry :) \n",
      "your guess number is under\n",
      "your guess = 64\n",
      "this is wrong, sorry :) \n",
      "your guess number is under\n",
      "your guess = 65\n",
      "this is wrong, sorry :) \n",
      "your guess number is under\n",
      "your guess = 66\n",
      "you got it\n",
      "aswer is:  66\n"
     ]
    }
   ],
   "source": [
    "# DONE\n",
    "#6. В программе генерируется случайное целое число от 0 до 100. \n",
    "#Пользователь должен его отгадать не более чем за 10 попыток. \n",
    "#После каждой неудачной попытки должно сообщаться больше или меньше введенное пользователем число, чем то, что загадано. \n",
    "#Если за 10 попыток число не отгадано, то вывести загаданное число.\n",
    "\n",
    "#random num gen\n",
    "import random\n",
    "\n",
    "rndm = random.randint(0,100)\n",
    "# guess input n itemps (while n<=10)\n",
    "\n",
    "n = 0\n",
    "while n < 10:\n",
    "    guess = int(input('your guess = '))\n",
    "    n += 1\n",
    "    \n",
    "# if rnd = guess - sucess\n",
    "    if guess == rndm:\n",
    "        print('you got it')\n",
    "        break\n",
    "    else:\n",
    "        print('this is wrong, sorry :) ')\n",
    "        if guess > rndm:\n",
    "            print('your guess number is over')\n",
    "        else:\n",
    "            print('your guess number is under')\n",
    "    \n",
    "# if not - than print answer\n",
    "print('aswer is: ', rndm)"
   ]
  },
  {
   "cell_type": "code",
   "execution_count": 14,
   "metadata": {},
   "outputs": [
    {
     "name": "stdout",
     "output_type": "stream",
     "text": [
      "567\n",
      "left side of equ. = 161028\n",
      "right side of equ. = 161028\n",
      "teorema dokazana 161028 = 161028\n"
     ]
    }
   ],
   "source": [
    "###### 7. Напишите программу, доказывающую или проверяющую, \n",
    "#что для множества натуральных чисел выполняется равенство: 1+2+...+n = n(n+1)/2, где n - любое натуральное число.\n",
    "\n",
    "\n",
    "n = int(input())\n",
    "left = 0\n",
    "for i in range(1,n+1):\n",
    "    left += i\n",
    "right = n * (n + 1) // 2\n",
    "\n",
    "if left == right:\n",
    "    print('left side of equ. =', left)\n",
    "    print('right side of equ. =', right)\n",
    "    print(f'teorema dokazana {left} = {right}')\n",
    "else:\n",
    "    print('left side of equ. =', left)\n",
    "    print('right side of equ. =', right)\n",
    "    print(f'teorema ne dokazana {left} does not equal {right}')\n"
   ]
  },
  {
   "cell_type": "code",
   "execution_count": null,
   "metadata": {},
   "outputs": [],
   "source": [
    "#8. Посчитать, сколько раз встречается определенная цифра в введенной последовательности чисел. \n",
    "# Количество вводимых чисел и цифра, которую необходимо посчитать, задаются вводом с клавиатуры.\n",
    "\n",
    "\n",
    "n = int(input(\"Number of values: \"))\n",
    "dig = int(input(\"Digit to count:  \"))\n",
    "\n",
    "count = 0\n",
    "\n",
    "for i in range(1,n+1):\n",
    "    m = int(input(\"Value \" + str(i) + \": \"))\n",
    "    while m > 0:\n",
    "        if m%10 == dig:\n",
    "            count += 1\n",
    "        m = m // 10\n",
    " \n",
    "print(\"Было введено %d цифр %d\" % (count, dig))"
   ]
  },
  {
   "cell_type": "code",
   "execution_count": null,
   "metadata": {},
   "outputs": [],
   "source": [
    "# DONE\n",
    "#9. Среди натуральных чисел, которые были введены, найти наибольшее по сумме цифр. \n",
    "# Вывести на экран это число и сумму его цифр.\n",
    "\n",
    "n = int(input())\n",
    "\n",
    "max_s = 0\n",
    "max_m = 0\n",
    "\n",
    "while n != 0:\n",
    "    m = n\n",
    "    s = 0\n",
    "    while n>0:\n",
    "        s += n%10\n",
    "        n //= 10\n",
    "    if s > max_s:\n",
    "        max_s = s\n",
    "        max_m = m\n",
    "    n = int(input())\n",
    "print(f'Число {max_m} имеет максимальную сумму цифр: {max_s} ')"
   ]
  }
 ],
 "metadata": {
  "kernelspec": {
   "display_name": "Python 3",
   "language": "python",
   "name": "python3"
  }
 },
 "nbformat": 4,
 "nbformat_minor": 2
}
